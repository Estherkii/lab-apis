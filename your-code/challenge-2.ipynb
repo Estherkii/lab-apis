{
 "cells": [
  {
   "cell_type": "markdown",
   "id": "b25842d6",
   "metadata": {},
   "source": [
    "# Import the necessary libraries: pandas & requests"
   ]
  },
  {
   "cell_type": "code",
   "execution_count": 1,
   "id": "215eb6bc",
   "metadata": {},
   "outputs": [],
   "source": [
    "import requests\n",
    "import pandas as pd\n",
    "import datetime"
   ]
  },
  {
   "cell_type": "code",
   "execution_count": null,
   "id": "5c4b28cc",
   "metadata": {},
   "outputs": [],
   "source": [
    "\"\"\"\n",
    "Goals\n",
    "\n",
    "- API that receives parameters\n",
    "- From a given dataframe (necesitamos encontrar uno), crear una columna nueva según parámetros\n",
    "- Acabar con un dataframe modificado\n",
    "- Encapsulado\n",
    "\"\"\""
   ]
  },
  {
   "cell_type": "code",
   "execution_count": null,
   "id": "f45d4745",
   "metadata": {},
   "outputs": [],
   "source": []
  },
  {
   "cell_type": "code",
   "execution_count": null,
   "id": "6ee8053c",
   "metadata": {},
   "outputs": [],
   "source": []
  },
  {
   "cell_type": "markdown",
   "id": "d3fb564c",
   "metadata": {},
   "source": [
    "# Save the dataframe into the data folder. "
   ]
  },
  {
   "cell_type": "markdown",
   "id": "2b334e3d",
   "metadata": {},
   "source": [
    "Make sure you don't get that unnamed: 0 column. Hint: https://stackoverflow.com/questions/36519086/how-to-get-rid-of-unnamed-0-column-in-a-pandas-dataframe-read-in-from-csv-fil"
   ]
  },
  {
   "cell_type": "code",
   "execution_count": 50,
   "id": "ca21a372",
   "metadata": {},
   "outputs": [],
   "source": [
    "# Your code here"
   ]
  },
  {
   "cell_type": "code",
   "execution_count": null,
   "id": "556829be",
   "metadata": {},
   "outputs": [],
   "source": []
  }
 ],
 "metadata": {
  "kernelspec": {
   "display_name": "ironhack",
   "language": "python",
   "name": "ironhack"
  },
  "language_info": {
   "codemirror_mode": {
    "name": "ipython",
    "version": 3
   },
   "file_extension": ".py",
   "mimetype": "text/x-python",
   "name": "python",
   "nbconvert_exporter": "python",
   "pygments_lexer": "ipython3",
   "version": "3.9.12"
  },
  "nbTranslate": {
   "displayLangs": [
    "en",
    "es"
   ],
   "hotkey": "alt-a",
   "langInMainMenu": true,
   "sourceLang": "es",
   "targetLang": "en",
   "useGoogleTranslate": true
  },
  "toc": {
   "base_numbering": 1,
   "nav_menu": {},
   "number_sections": true,
   "sideBar": true,
   "skip_h1_title": false,
   "title_cell": "Table of Contents",
   "title_sidebar": "Contents",
   "toc_cell": false,
   "toc_position": {},
   "toc_section_display": true,
   "toc_window_display": false
  }
 },
 "nbformat": 4,
 "nbformat_minor": 5
}
