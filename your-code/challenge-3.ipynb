{
 "cells": [
  {
   "cell_type": "markdown",
   "id": "00dfecb2",
   "metadata": {},
   "source": [
    "![Flos Mariae](https://e00-elmundo.uecdn.es/assets/multimedia/imagenes/2023/03/07/16781451615938.jpg)"
   ]
  },
  {
   "cell_type": "markdown",
   "id": "04e5b3f8",
   "metadata": {},
   "source": [
    "Some catholic pop to get into the mood: [Flos Mariae - Amén](https://www.youtube.com/watch?v=viQOBLF3AcY&themeRefresh=1)"
   ]
  },
  {
   "cell_type": "markdown",
   "id": "928711fd",
   "metadata": {},
   "source": [
    "The girls in Flos Mariae need your help. Their study sheets are incomplete and teachers told them to `google it` when they asked about verses. Help them complete their data. "
   ]
  },
  {
   "cell_type": "markdown",
   "id": "259c3d31",
   "metadata": {},
   "source": [
    "[Bible API](https://github.com/omarciovsena/abibliadigital)"
   ]
  },
  {
   "cell_type": "markdown",
   "id": "822517ff",
   "metadata": {},
   "source": [
    "[Bible documentation](https://www.abibliadigital.com.br/en)"
   ]
  },
  {
   "cell_type": "markdown",
   "id": "b25842d6",
   "metadata": {},
   "source": [
    "# Import the necessary libraries: pandas & requests"
   ]
  },
  {
   "cell_type": "code",
   "execution_count": 5,
   "id": "215eb6bc",
   "metadata": {},
   "outputs": [],
   "source": [
    "import requests\n",
    "import pandas as pd"
   ]
  },
  {
   "cell_type": "code",
   "execution_count": 6,
   "id": "9b51d397",
   "metadata": {},
   "outputs": [],
   "source": [
    "df = pd.read_csv(\"../data/bible.csv\")"
   ]
  },
  {
   "cell_type": "code",
   "execution_count": 7,
   "id": "f9146509",
   "metadata": {},
   "outputs": [
    {
     "data": {
      "text/html": [
       "<div>\n",
       "<style scoped>\n",
       "    .dataframe tbody tr th:only-of-type {\n",
       "        vertical-align: middle;\n",
       "    }\n",
       "\n",
       "    .dataframe tbody tr th {\n",
       "        vertical-align: top;\n",
       "    }\n",
       "\n",
       "    .dataframe thead th {\n",
       "        text-align: right;\n",
       "    }\n",
       "</style>\n",
       "<table border=\"1\" class=\"dataframe\">\n",
       "  <thead>\n",
       "    <tr style=\"text-align: right;\">\n",
       "      <th></th>\n",
       "      <th>Name</th>\n",
       "      <th>Role</th>\n",
       "      <th>Book</th>\n",
       "    </tr>\n",
       "  </thead>\n",
       "  <tbody>\n",
       "    <tr>\n",
       "      <th>0</th>\n",
       "      <td>Adam</td>\n",
       "      <td>First Man</td>\n",
       "      <td>Genesis</td>\n",
       "    </tr>\n",
       "    <tr>\n",
       "      <th>1</th>\n",
       "      <td>Eve</td>\n",
       "      <td>First Woman</td>\n",
       "      <td>Genesis</td>\n",
       "    </tr>\n",
       "    <tr>\n",
       "      <th>2</th>\n",
       "      <td>Noah</td>\n",
       "      <td>Builder of the Ark</td>\n",
       "      <td>Genesis</td>\n",
       "    </tr>\n",
       "    <tr>\n",
       "      <th>3</th>\n",
       "      <td>Abraham</td>\n",
       "      <td>Father of Nations</td>\n",
       "      <td>Genesis</td>\n",
       "    </tr>\n",
       "    <tr>\n",
       "      <th>4</th>\n",
       "      <td>Sarah</td>\n",
       "      <td>Wife of Abraham</td>\n",
       "      <td>Genesis</td>\n",
       "    </tr>\n",
       "    <tr>\n",
       "      <th>5</th>\n",
       "      <td>Moses</td>\n",
       "      <td>Leader of the Exodus</td>\n",
       "      <td>Exodus</td>\n",
       "    </tr>\n",
       "    <tr>\n",
       "      <th>6</th>\n",
       "      <td>Aaron</td>\n",
       "      <td>Brother of Moses</td>\n",
       "      <td>Exodus</td>\n",
       "    </tr>\n",
       "    <tr>\n",
       "      <th>7</th>\n",
       "      <td>David</td>\n",
       "      <td>King of Israel</td>\n",
       "      <td>1 Samuel</td>\n",
       "    </tr>\n",
       "    <tr>\n",
       "      <th>8</th>\n",
       "      <td>Solomon</td>\n",
       "      <td>Wisest Man</td>\n",
       "      <td>Proverbs</td>\n",
       "    </tr>\n",
       "    <tr>\n",
       "      <th>9</th>\n",
       "      <td>Isaiah</td>\n",
       "      <td>Prophet</td>\n",
       "      <td>Isaiah</td>\n",
       "    </tr>\n",
       "    <tr>\n",
       "      <th>10</th>\n",
       "      <td>Jeremiah</td>\n",
       "      <td>Prophet</td>\n",
       "      <td>Jeremiah</td>\n",
       "    </tr>\n",
       "    <tr>\n",
       "      <th>11</th>\n",
       "      <td>John the Baptist</td>\n",
       "      <td>Forerunner of Jesus</td>\n",
       "      <td>Matthew</td>\n",
       "    </tr>\n",
       "    <tr>\n",
       "      <th>12</th>\n",
       "      <td>Jesus Christ</td>\n",
       "      <td>Son of God</td>\n",
       "      <td>Matthew</td>\n",
       "    </tr>\n",
       "    <tr>\n",
       "      <th>13</th>\n",
       "      <td>Mary</td>\n",
       "      <td>Mother of Jesus</td>\n",
       "      <td>Luke</td>\n",
       "    </tr>\n",
       "    <tr>\n",
       "      <th>14</th>\n",
       "      <td>Peter</td>\n",
       "      <td>Apostle</td>\n",
       "      <td>Matthew</td>\n",
       "    </tr>\n",
       "    <tr>\n",
       "      <th>15</th>\n",
       "      <td>Andrew</td>\n",
       "      <td>Apostle</td>\n",
       "      <td>Matthew</td>\n",
       "    </tr>\n",
       "    <tr>\n",
       "      <th>16</th>\n",
       "      <td>James the Greater</td>\n",
       "      <td>Apostle</td>\n",
       "      <td>Matthew</td>\n",
       "    </tr>\n",
       "    <tr>\n",
       "      <th>17</th>\n",
       "      <td>John the Evangelist</td>\n",
       "      <td>Apostle</td>\n",
       "      <td>John</td>\n",
       "    </tr>\n",
       "    <tr>\n",
       "      <th>18</th>\n",
       "      <td>Philip</td>\n",
       "      <td>Apostle</td>\n",
       "      <td>Matthew</td>\n",
       "    </tr>\n",
       "    <tr>\n",
       "      <th>19</th>\n",
       "      <td>Thomas</td>\n",
       "      <td>Apostle</td>\n",
       "      <td>Matthew</td>\n",
       "    </tr>\n",
       "    <tr>\n",
       "      <th>20</th>\n",
       "      <td>James the Lesser</td>\n",
       "      <td>Apostle</td>\n",
       "      <td>Matthew</td>\n",
       "    </tr>\n",
       "    <tr>\n",
       "      <th>21</th>\n",
       "      <td>Jude Thaddeus</td>\n",
       "      <td>Apostle</td>\n",
       "      <td>Matthew</td>\n",
       "    </tr>\n",
       "    <tr>\n",
       "      <th>22</th>\n",
       "      <td>Simon the Zealot</td>\n",
       "      <td>Apostle</td>\n",
       "      <td>Matthew</td>\n",
       "    </tr>\n",
       "    <tr>\n",
       "      <th>23</th>\n",
       "      <td>Bartholomew</td>\n",
       "      <td>Apostle</td>\n",
       "      <td>Matthew</td>\n",
       "    </tr>\n",
       "  </tbody>\n",
       "</table>\n",
       "</div>"
      ],
      "text/plain": [
       "                   Name                  Role      Book\n",
       "0                  Adam             First Man   Genesis\n",
       "1                   Eve           First Woman   Genesis\n",
       "2                  Noah    Builder of the Ark   Genesis\n",
       "3               Abraham     Father of Nations   Genesis\n",
       "4                 Sarah       Wife of Abraham   Genesis\n",
       "5                 Moses  Leader of the Exodus    Exodus\n",
       "6                 Aaron      Brother of Moses    Exodus\n",
       "7                 David        King of Israel  1 Samuel\n",
       "8               Solomon            Wisest Man  Proverbs\n",
       "9                Isaiah               Prophet    Isaiah\n",
       "10             Jeremiah               Prophet  Jeremiah\n",
       "11     John the Baptist   Forerunner of Jesus   Matthew\n",
       "12         Jesus Christ            Son of God   Matthew\n",
       "13                 Mary       Mother of Jesus      Luke\n",
       "14                Peter               Apostle   Matthew\n",
       "15               Andrew               Apostle   Matthew\n",
       "16    James the Greater               Apostle   Matthew\n",
       "17  John the Evangelist               Apostle      John\n",
       "18               Philip               Apostle   Matthew\n",
       "19               Thomas               Apostle   Matthew\n",
       "20     James the Lesser               Apostle   Matthew\n",
       "21        Jude Thaddeus               Apostle   Matthew\n",
       "22     Simon the Zealot               Apostle   Matthew\n",
       "23          Bartholomew               Apostle   Matthew"
      ]
     },
     "execution_count": 7,
     "metadata": {},
     "output_type": "execute_result"
    }
   ],
   "source": [
    "df"
   ]
  },
  {
   "cell_type": "code",
   "execution_count": 8,
   "id": "8ab21dfb",
   "metadata": {},
   "outputs": [],
   "source": [
    "# "
   ]
  },
  {
   "cell_type": "code",
   "execution_count": null,
   "id": "b1fd69c6",
   "metadata": {},
   "outputs": [],
   "source": []
  },
  {
   "cell_type": "code",
   "execution_count": null,
   "id": "d3450de4",
   "metadata": {},
   "outputs": [],
   "source": []
  },
  {
   "cell_type": "code",
   "execution_count": null,
   "id": "7d052880",
   "metadata": {},
   "outputs": [],
   "source": []
  },
  {
   "cell_type": "code",
   "execution_count": null,
   "id": "70c622d7",
   "metadata": {},
   "outputs": [],
   "source": []
  },
  {
   "cell_type": "code",
   "execution_count": null,
   "id": "5c4b28cc",
   "metadata": {},
   "outputs": [],
   "source": [
    "\"\"\"\n",
    "Goals\n",
    "\n",
    "- API that receives parameters\n",
    "- From a given dataframe (necesitamos encontrar uno), crear una columna nueva según parámetros\n",
    "- Acabar con un dataframe modificado\n",
    "- Encapsulado\n",
    "\"\"\""
   ]
  },
  {
   "cell_type": "code",
   "execution_count": null,
   "id": "f45d4745",
   "metadata": {},
   "outputs": [],
   "source": []
  },
  {
   "cell_type": "code",
   "execution_count": null,
   "id": "6ee8053c",
   "metadata": {},
   "outputs": [],
   "source": []
  },
  {
   "cell_type": "markdown",
   "id": "d3fb564c",
   "metadata": {},
   "source": [
    "# Save the dataframe into the data folder. "
   ]
  },
  {
   "cell_type": "markdown",
   "id": "2b334e3d",
   "metadata": {},
   "source": [
    "Make sure you don't get that unnamed: 0 column. Hint: https://stackoverflow.com/questions/36519086/how-to-get-rid-of-unnamed-0-column-in-a-pandas-dataframe-read-in-from-csv-fil"
   ]
  },
  {
   "cell_type": "code",
   "execution_count": 50,
   "id": "ca21a372",
   "metadata": {},
   "outputs": [],
   "source": [
    "# Your code here"
   ]
  },
  {
   "cell_type": "code",
   "execution_count": null,
   "id": "556829be",
   "metadata": {},
   "outputs": [],
   "source": []
  }
 ],
 "metadata": {
  "kernelspec": {
   "display_name": "ironhack",
   "language": "python",
   "name": "ironhack"
  },
  "language_info": {
   "codemirror_mode": {
    "name": "ipython",
    "version": 3
   },
   "file_extension": ".py",
   "mimetype": "text/x-python",
   "name": "python",
   "nbconvert_exporter": "python",
   "pygments_lexer": "ipython3",
   "version": "3.9.12"
  },
  "nbTranslate": {
   "displayLangs": [
    "en",
    "es"
   ],
   "hotkey": "alt-a",
   "langInMainMenu": true,
   "sourceLang": "es",
   "targetLang": "en",
   "useGoogleTranslate": true
  },
  "toc": {
   "base_numbering": 1,
   "nav_menu": {},
   "number_sections": true,
   "sideBar": true,
   "skip_h1_title": false,
   "title_cell": "Table of Contents",
   "title_sidebar": "Contents",
   "toc_cell": false,
   "toc_position": {},
   "toc_section_display": true,
   "toc_window_display": false
  }
 },
 "nbformat": 4,
 "nbformat_minor": 5
}
