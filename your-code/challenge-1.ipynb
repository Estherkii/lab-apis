{
 "cells": [
  {
   "cell_type": "markdown",
   "id": "b25842d6",
   "metadata": {},
   "source": [
    "# Import the necessary libraries: pandas & requests"
   ]
  },
  {
   "cell_type": "code",
   "execution_count": 1,
   "id": "215eb6bc",
   "metadata": {},
   "outputs": [],
   "source": [
    "import requests\n",
    "from bs4 import BeautifulSoup\n",
    "import pandas as pd\n",
    "from urllib.request import urlopen\n",
    "import re\n",
    "from datetime import datetime\n",
    "import calendar"
   ]
  },
  {
   "cell_type": "markdown",
   "id": "416a4caf",
   "metadata": {},
   "source": [
    "# Go on to this website: `https://kinduff.github.io/dog-api/`. Read the docs. "
   ]
  },
  {
   "cell_type": "markdown",
   "id": "bb949a18",
   "metadata": {},
   "source": [
    "## Build the `url_for_request`. This will be the result of: reading the docs 🙃. "
   ]
  },
  {
   "cell_type": "markdown",
   "id": "543e6c0d",
   "metadata": {},
   "source": [
    "Hint: there's a `base_url` to which you need to add another `endpoint`. Call the resulting string `url_for_request`"
   ]
  },
  {
   "cell_type": "code",
   "execution_count": 2,
   "id": "8c147eb7",
   "metadata": {},
   "outputs": [
    {
     "data": {
      "text/plain": [
       "'http://dog-api.kinduff.com/api/facts'"
      ]
     },
     "execution_count": 2,
     "metadata": {},
     "output_type": "execute_result"
    }
   ],
   "source": [
    "url = \"http://dog-api.kinduff.com\"\n",
    "url = url + \"/api/facts\"\n",
    "url"
   ]
  },
  {
   "cell_type": "markdown",
   "id": "c5f33f0f",
   "metadata": {},
   "source": [
    "# Do one request using the `url_for_request`. Make sure it's read as a json."
   ]
  },
  {
   "cell_type": "code",
   "execution_count": 3,
   "id": "311d0c28",
   "metadata": {},
   "outputs": [
    {
     "data": {
      "text/plain": [
       "['The average dog can run about 19 mph. Greyhounds are the fastest dogs on Earth and can run at speeds of 45 mph.']"
      ]
     },
     "execution_count": 3,
     "metadata": {},
     "output_type": "execute_result"
    }
   ],
   "source": [
    "res = requests.get(url).json()['facts']\n",
    "res"
   ]
  },
  {
   "cell_type": "markdown",
   "id": "1bfb3a80",
   "metadata": {},
   "source": [
    "# Great! Now: encapsulate"
   ]
  },
  {
   "cell_type": "markdown",
   "id": "d72434d8",
   "metadata": {},
   "source": [
    "- Create a function whith the name: `request_dog_facts`\n",
    "- It should not take any argument\n",
    "- It should return one dictionary with the information requested\n"
   ]
  },
  {
   "cell_type": "code",
   "execution_count": 4,
   "id": "e7dc2129",
   "metadata": {},
   "outputs": [
    {
     "data": {
      "text/plain": [
       "['Is it a duck... or a dog? The Newfoundland breed has a water resistant coat and webbed feet. This dog was originally bred to help haul nets for fishermen and rescuing people at risk of drowning.']"
      ]
     },
     "execution_count": 4,
     "metadata": {},
     "output_type": "execute_result"
    }
   ],
   "source": [
    "def request_dog_facts():\n",
    "    res = requests.get(url).json()['facts']\n",
    "    return res\n",
    "request_dog_facts()"
   ]
  },
  {
   "cell_type": "markdown",
   "id": "5c01f4ce",
   "metadata": {},
   "source": [
    "# APIs may be faulty when requesting many times: make sure you implement a try & except to cover for that."
   ]
  },
  {
   "cell_type": "markdown",
   "id": "ae0d7596",
   "metadata": {},
   "source": [
    "If the request doesn't work, make sure you return a message"
   ]
  },
  {
   "cell_type": "code",
   "execution_count": 5,
   "id": "9263e7c8",
   "metadata": {},
   "outputs": [
    {
     "data": {
      "text/plain": [
       "{'facts': ['It pays to be a lap dog. Three dogs (from First Class cabins!) survived the sinking of the Titanic – two Pomeranians and one Pekingese.'],\n",
       " 'success': True}"
      ]
     },
     "execution_count": 5,
     "metadata": {},
     "output_type": "execute_result"
    }
   ],
   "source": [
    "def request_dog_facts():\n",
    "    url = \"http://dog-api.kinduff.com/api/facts\"\n",
    "    try:\n",
    "        res = requests.get(url).json()\n",
    "        return res\n",
    "    except Error:\n",
    "        print(\"Too many errors\")\n",
    "              \n",
    "request_dog_facts()"
   ]
  },
  {
   "cell_type": "markdown",
   "id": "b201a536",
   "metadata": {},
   "source": [
    "# We now want to get as the day of the month today: eg.: if current month is october we'll make 10  requests"
   ]
  },
  {
   "cell_type": "markdown",
   "id": "b9ee1515",
   "metadata": {},
   "source": [
    "Create a variable called `current_month`. Using the imported library in the first cell, save today's day."
   ]
  },
  {
   "cell_type": "code",
   "execution_count": 6,
   "id": "1e7947fe",
   "metadata": {},
   "outputs": [
    {
     "name": "stdout",
     "output_type": "stream",
     "text": [
      "10\n"
     ]
    }
   ],
   "source": [
    "current_month = datetime.today().month\n",
    "print(current_month)"
   ]
  },
  {
   "cell_type": "markdown",
   "id": "79f81f5f",
   "metadata": {},
   "source": [
    "# If `todays_date` is 27, create a list with 27 dictionaries reusing the function you just created: `request_dog_facts`. List should be called: `dogs_facts`. Do this using a comprehension list"
   ]
  },
  {
   "cell_type": "code",
   "execution_count": 10,
   "id": "731959ec",
   "metadata": {},
   "outputs": [
    {
     "data": {
      "text/plain": [
       "[{'facts': ['Dogs do dream! Dogs and humans have the same type of slow wave sleep (SWS) and rapid eye movement (REM) and during this REM stage dogs can dream. The twitching and paw movements that occur during their sleep are signs that your pet is dreaming'],\n",
       "  'success': True},\n",
       " {'facts': ['It costs approximately $10,000 to train a federally certified search and rescue dog.'],\n",
       "  'success': True},\n",
       " {'facts': ['Most dogs have 18 or more muscles to tilt, rotate, and move their ears.'],\n",
       "  'success': True},\n",
       " {'facts': ['Dogs have three eyelids. The third lid, called a nictitating membrane or \"haw,\" keeps the eye lubricated and protected.'],\n",
       "  'success': True},\n",
       " {'facts': ['One of Shakespeare’s most mischievous characters is Crab, the dog belonging to Launce in the Two Gentlemen of Verona. The word \"watchdog\" is first found in The Tempest.'],\n",
       "  'success': True},\n",
       " {'facts': ['Dogs do not have an appendix. Why haven’t humans gotten rid of theirs yet?'],\n",
       "  'success': True},\n",
       " {'facts': ['Endal was the first dog to ride on the London Eye (the characteristic ferris wheel in London, England), and was also the first known dog to successfully use a ATM machine.'],\n",
       "  'success': True},\n",
       " {'facts': ['Bloodhound dogs have a keen sense of smell and have been used since the Middle Ages to track criminals.'],\n",
       "  'success': True},\n",
       " {'facts': ['Female dogs can get pregnant when their bodies undergo changes which make them receptive to male dogs. This is called being on heat or in estrus.'],\n",
       "  'success': True},\n",
       " {'facts': ['In Croatia, scientists discovered that lampposts were falling down because a chemical in the urine of male dogs was rotting the metal.'],\n",
       "  'success': True},\n",
       " {'facts': ['A Border Collie named Chaser has learned the names of 1,022 toys, and can retrieve each by name.'],\n",
       "  'success': True},\n",
       " {'facts': ['One unspayed female dog, her mate and their puppies can produce 67,000 puppies in six years.'],\n",
       "  'success': True},\n",
       " {'facts': ['The term \"dog days of summer\" was coined by the ancient Greeks and Romans to describe the hottest days of summer that coincided with the rising of the Dog Star, Sirius.'],\n",
       "  'success': True},\n",
       " {'facts': ['This pup, Nesbit, earned over one million Delta airline miles in his life and had his own frequent flier card.'],\n",
       "  'success': True},\n",
       " {'facts': ['More than one in three U.S. families owns a dog.'],\n",
       "  'success': True},\n",
       " {'facts': ['Therapy dogs, who bring healing to individuals and families by visiting hospitals schools or retirement homes, differ from service dogs, who assist individuals who have disabilities.'],\n",
       "  'success': True},\n",
       " {'facts': ['In addition to \"formal\" forms of dog training (operant conditioning, reinforcement, or classical conditioning), dogs are able to learn merely from observation.'],\n",
       "  'success': True},\n",
       " {'facts': ['More than one in three U.S. families owns a dog.'],\n",
       "  'success': True},\n",
       " {'facts': ['Humans generally see better than dogs, but dogs see much better when there is low-light.'],\n",
       "  'success': True},\n",
       " {'facts': ['The breed of dog with the best sense of smell is the bloodhound.'],\n",
       "  'success': True},\n",
       " {'facts': [\"Puppies love games such as hide and seek! Hide, then call your pup's name so she can try to find you.\"],\n",
       "  'success': True},\n",
       " {'facts': ['It’s been demonstrated that dogs can reduce both physical and emotional anxiety.'],\n",
       "  'success': True},\n",
       " {'facts': ['Seeing eye dogs pee and poo on command so that their owners can clean up after them. (The command is usually \"Get busy!\" and pups will pace back and forth until they do their business.) Male dogs are also trained to do their business without lifting their leg.'],\n",
       "  'success': True},\n",
       " {'facts': ['Seventy percent of people sign their pet’s name on greeting and holiday cards.'],\n",
       "  'success': True},\n",
       " {'facts': ['A dog’s shoulder blades are unattached to the rest of the skeleton to allow greater flexibility for running.'],\n",
       "  'success': True},\n",
       " {'facts': ['The normal body temperature of a dog is 100.94 degrees Fahrenheit (38.3 Celsius) to 102.56 F (39.2 C) whereas human normal body temperature 98.6 F (37 C).'],\n",
       "  'success': True},\n",
       " {'facts': ['Dogs can use their sense of smell to gauge our emotions, they can smell fear, anxiety, even sadness. This is because they can smell hormones such as adrenaline.'],\n",
       "  'success': True}]"
      ]
     },
     "execution_count": 10,
     "metadata": {},
     "output_type": "execute_result"
    }
   ],
   "source": [
    "current_day = datetime.now().day\n",
    "dogs_facts = [request_dog_facts() for num in range(current_day)]\n",
    "dogs_facts"
   ]
  },
  {
   "cell_type": "markdown",
   "id": "ec3a47d4",
   "metadata": {},
   "source": [
    "# Build a DF. You have a list of dictionaries, should be easy!"
   ]
  },
  {
   "cell_type": "code",
   "execution_count": 17,
   "id": "d22652ed",
   "metadata": {},
   "outputs": [
    {
     "data": {
      "text/html": [
       "<div>\n",
       "<style scoped>\n",
       "    .dataframe tbody tr th:only-of-type {\n",
       "        vertical-align: middle;\n",
       "    }\n",
       "\n",
       "    .dataframe tbody tr th {\n",
       "        vertical-align: top;\n",
       "    }\n",
       "\n",
       "    .dataframe thead th {\n",
       "        text-align: right;\n",
       "    }\n",
       "</style>\n",
       "<table border=\"1\" class=\"dataframe\">\n",
       "  <thead>\n",
       "    <tr style=\"text-align: right;\">\n",
       "      <th></th>\n",
       "      <th>facts</th>\n",
       "      <th>success</th>\n",
       "    </tr>\n",
       "  </thead>\n",
       "  <tbody>\n",
       "    <tr>\n",
       "      <th>0</th>\n",
       "      <td>[Dogs do dream! Dogs and humans have the same ...</td>\n",
       "      <td>True</td>\n",
       "    </tr>\n",
       "    <tr>\n",
       "      <th>1</th>\n",
       "      <td>[It costs approximately $10,000 to train a fed...</td>\n",
       "      <td>True</td>\n",
       "    </tr>\n",
       "    <tr>\n",
       "      <th>2</th>\n",
       "      <td>[Most dogs have 18 or more muscles to tilt, ro...</td>\n",
       "      <td>True</td>\n",
       "    </tr>\n",
       "    <tr>\n",
       "      <th>3</th>\n",
       "      <td>[Dogs have three eyelids. The third lid, calle...</td>\n",
       "      <td>True</td>\n",
       "    </tr>\n",
       "    <tr>\n",
       "      <th>4</th>\n",
       "      <td>[One of Shakespeare’s most mischievous charact...</td>\n",
       "      <td>True</td>\n",
       "    </tr>\n",
       "    <tr>\n",
       "      <th>5</th>\n",
       "      <td>[Dogs do not have an appendix. Why haven’t hum...</td>\n",
       "      <td>True</td>\n",
       "    </tr>\n",
       "    <tr>\n",
       "      <th>6</th>\n",
       "      <td>[Endal was the first dog to ride on the London...</td>\n",
       "      <td>True</td>\n",
       "    </tr>\n",
       "    <tr>\n",
       "      <th>7</th>\n",
       "      <td>[Bloodhound dogs have a keen sense of smell an...</td>\n",
       "      <td>True</td>\n",
       "    </tr>\n",
       "    <tr>\n",
       "      <th>8</th>\n",
       "      <td>[Female dogs can get pregnant when their bodie...</td>\n",
       "      <td>True</td>\n",
       "    </tr>\n",
       "    <tr>\n",
       "      <th>9</th>\n",
       "      <td>[In Croatia, scientists discovered that lamppo...</td>\n",
       "      <td>True</td>\n",
       "    </tr>\n",
       "    <tr>\n",
       "      <th>10</th>\n",
       "      <td>[A Border Collie named Chaser has learned the ...</td>\n",
       "      <td>True</td>\n",
       "    </tr>\n",
       "    <tr>\n",
       "      <th>11</th>\n",
       "      <td>[One unspayed female dog, her mate and their p...</td>\n",
       "      <td>True</td>\n",
       "    </tr>\n",
       "    <tr>\n",
       "      <th>12</th>\n",
       "      <td>[The term \"dog days of summer\" was coined by t...</td>\n",
       "      <td>True</td>\n",
       "    </tr>\n",
       "    <tr>\n",
       "      <th>13</th>\n",
       "      <td>[This pup, Nesbit, earned over one million Del...</td>\n",
       "      <td>True</td>\n",
       "    </tr>\n",
       "    <tr>\n",
       "      <th>14</th>\n",
       "      <td>[More than one in three U.S. families owns a d...</td>\n",
       "      <td>True</td>\n",
       "    </tr>\n",
       "    <tr>\n",
       "      <th>15</th>\n",
       "      <td>[Therapy dogs, who bring healing to individual...</td>\n",
       "      <td>True</td>\n",
       "    </tr>\n",
       "    <tr>\n",
       "      <th>16</th>\n",
       "      <td>[In addition to \"formal\" forms of dog training...</td>\n",
       "      <td>True</td>\n",
       "    </tr>\n",
       "    <tr>\n",
       "      <th>17</th>\n",
       "      <td>[More than one in three U.S. families owns a d...</td>\n",
       "      <td>True</td>\n",
       "    </tr>\n",
       "    <tr>\n",
       "      <th>18</th>\n",
       "      <td>[Humans generally see better than dogs, but do...</td>\n",
       "      <td>True</td>\n",
       "    </tr>\n",
       "    <tr>\n",
       "      <th>19</th>\n",
       "      <td>[The breed of dog with the best sense of smell...</td>\n",
       "      <td>True</td>\n",
       "    </tr>\n",
       "    <tr>\n",
       "      <th>20</th>\n",
       "      <td>[Puppies love games such as hide and seek! Hid...</td>\n",
       "      <td>True</td>\n",
       "    </tr>\n",
       "    <tr>\n",
       "      <th>21</th>\n",
       "      <td>[It’s been demonstrated that dogs can reduce b...</td>\n",
       "      <td>True</td>\n",
       "    </tr>\n",
       "    <tr>\n",
       "      <th>22</th>\n",
       "      <td>[Seeing eye dogs pee and poo on command so tha...</td>\n",
       "      <td>True</td>\n",
       "    </tr>\n",
       "    <tr>\n",
       "      <th>23</th>\n",
       "      <td>[Seventy percent of people sign their pet’s na...</td>\n",
       "      <td>True</td>\n",
       "    </tr>\n",
       "    <tr>\n",
       "      <th>24</th>\n",
       "      <td>[A dog’s shoulder blades are unattached to the...</td>\n",
       "      <td>True</td>\n",
       "    </tr>\n",
       "    <tr>\n",
       "      <th>25</th>\n",
       "      <td>[The normal body temperature of a dog is 100.9...</td>\n",
       "      <td>True</td>\n",
       "    </tr>\n",
       "    <tr>\n",
       "      <th>26</th>\n",
       "      <td>[Dogs can use their sense of smell to gauge ou...</td>\n",
       "      <td>True</td>\n",
       "    </tr>\n",
       "  </tbody>\n",
       "</table>\n",
       "</div>"
      ],
      "text/plain": [
       "                                                facts  success\n",
       "0   [Dogs do dream! Dogs and humans have the same ...     True\n",
       "1   [It costs approximately $10,000 to train a fed...     True\n",
       "2   [Most dogs have 18 or more muscles to tilt, ro...     True\n",
       "3   [Dogs have three eyelids. The third lid, calle...     True\n",
       "4   [One of Shakespeare’s most mischievous charact...     True\n",
       "5   [Dogs do not have an appendix. Why haven’t hum...     True\n",
       "6   [Endal was the first dog to ride on the London...     True\n",
       "7   [Bloodhound dogs have a keen sense of smell an...     True\n",
       "8   [Female dogs can get pregnant when their bodie...     True\n",
       "9   [In Croatia, scientists discovered that lamppo...     True\n",
       "10  [A Border Collie named Chaser has learned the ...     True\n",
       "11  [One unspayed female dog, her mate and their p...     True\n",
       "12  [The term \"dog days of summer\" was coined by t...     True\n",
       "13  [This pup, Nesbit, earned over one million Del...     True\n",
       "14  [More than one in three U.S. families owns a d...     True\n",
       "15  [Therapy dogs, who bring healing to individual...     True\n",
       "16  [In addition to \"formal\" forms of dog training...     True\n",
       "17  [More than one in three U.S. families owns a d...     True\n",
       "18  [Humans generally see better than dogs, but do...     True\n",
       "19  [The breed of dog with the best sense of smell...     True\n",
       "20  [Puppies love games such as hide and seek! Hid...     True\n",
       "21  [It’s been demonstrated that dogs can reduce b...     True\n",
       "22  [Seeing eye dogs pee and poo on command so tha...     True\n",
       "23  [Seventy percent of people sign their pet’s na...     True\n",
       "24  [A dog’s shoulder blades are unattached to the...     True\n",
       "25  [The normal body temperature of a dog is 100.9...     True\n",
       "26  [Dogs can use their sense of smell to gauge ou...     True"
      ]
     },
     "execution_count": 17,
     "metadata": {},
     "output_type": "execute_result"
    }
   ],
   "source": [
    "df = pd.DataFrame(dogs_facts)\n",
    "df"
   ]
  },
  {
   "cell_type": "markdown",
   "id": "9f401ae3",
   "metadata": {},
   "source": [
    "# Modify the previous table, using a lambda function, so you modify the column data to have the same column but with the element instead of the list with that one element"
   ]
  },
  {
   "cell_type": "code",
   "execution_count": 18,
   "id": "b29f4826",
   "metadata": {},
   "outputs": [
    {
     "data": {
      "text/html": [
       "<div>\n",
       "<style scoped>\n",
       "    .dataframe tbody tr th:only-of-type {\n",
       "        vertical-align: middle;\n",
       "    }\n",
       "\n",
       "    .dataframe tbody tr th {\n",
       "        vertical-align: top;\n",
       "    }\n",
       "\n",
       "    .dataframe thead th {\n",
       "        text-align: right;\n",
       "    }\n",
       "</style>\n",
       "<table border=\"1\" class=\"dataframe\">\n",
       "  <thead>\n",
       "    <tr style=\"text-align: right;\">\n",
       "      <th></th>\n",
       "      <th>facts</th>\n",
       "      <th>success</th>\n",
       "    </tr>\n",
       "  </thead>\n",
       "  <tbody>\n",
       "    <tr>\n",
       "      <th>0</th>\n",
       "      <td>Dogs do dream! Dogs and humans have the same t...</td>\n",
       "      <td>True</td>\n",
       "    </tr>\n",
       "    <tr>\n",
       "      <th>1</th>\n",
       "      <td>It costs approximately $10,000 to train a fede...</td>\n",
       "      <td>True</td>\n",
       "    </tr>\n",
       "    <tr>\n",
       "      <th>2</th>\n",
       "      <td>Most dogs have 18 or more muscles to tilt, rot...</td>\n",
       "      <td>True</td>\n",
       "    </tr>\n",
       "    <tr>\n",
       "      <th>3</th>\n",
       "      <td>Dogs have three eyelids. The third lid, called...</td>\n",
       "      <td>True</td>\n",
       "    </tr>\n",
       "    <tr>\n",
       "      <th>4</th>\n",
       "      <td>One of Shakespeare’s most mischievous characte...</td>\n",
       "      <td>True</td>\n",
       "    </tr>\n",
       "    <tr>\n",
       "      <th>5</th>\n",
       "      <td>Dogs do not have an appendix. Why haven’t huma...</td>\n",
       "      <td>True</td>\n",
       "    </tr>\n",
       "    <tr>\n",
       "      <th>6</th>\n",
       "      <td>Endal was the first dog to ride on the London ...</td>\n",
       "      <td>True</td>\n",
       "    </tr>\n",
       "    <tr>\n",
       "      <th>7</th>\n",
       "      <td>Bloodhound dogs have a keen sense of smell and...</td>\n",
       "      <td>True</td>\n",
       "    </tr>\n",
       "    <tr>\n",
       "      <th>8</th>\n",
       "      <td>Female dogs can get pregnant when their bodies...</td>\n",
       "      <td>True</td>\n",
       "    </tr>\n",
       "    <tr>\n",
       "      <th>9</th>\n",
       "      <td>In Croatia, scientists discovered that lamppos...</td>\n",
       "      <td>True</td>\n",
       "    </tr>\n",
       "    <tr>\n",
       "      <th>10</th>\n",
       "      <td>A Border Collie named Chaser has learned the n...</td>\n",
       "      <td>True</td>\n",
       "    </tr>\n",
       "    <tr>\n",
       "      <th>11</th>\n",
       "      <td>One unspayed female dog, her mate and their pu...</td>\n",
       "      <td>True</td>\n",
       "    </tr>\n",
       "    <tr>\n",
       "      <th>12</th>\n",
       "      <td>The term \"dog days of summer\" was coined by th...</td>\n",
       "      <td>True</td>\n",
       "    </tr>\n",
       "    <tr>\n",
       "      <th>13</th>\n",
       "      <td>This pup, Nesbit, earned over one million Delt...</td>\n",
       "      <td>True</td>\n",
       "    </tr>\n",
       "    <tr>\n",
       "      <th>14</th>\n",
       "      <td>More than one in three U.S. families owns a dog.</td>\n",
       "      <td>True</td>\n",
       "    </tr>\n",
       "    <tr>\n",
       "      <th>15</th>\n",
       "      <td>Therapy dogs, who bring healing to individuals...</td>\n",
       "      <td>True</td>\n",
       "    </tr>\n",
       "    <tr>\n",
       "      <th>16</th>\n",
       "      <td>In addition to \"formal\" forms of dog training ...</td>\n",
       "      <td>True</td>\n",
       "    </tr>\n",
       "    <tr>\n",
       "      <th>17</th>\n",
       "      <td>More than one in three U.S. families owns a dog.</td>\n",
       "      <td>True</td>\n",
       "    </tr>\n",
       "    <tr>\n",
       "      <th>18</th>\n",
       "      <td>Humans generally see better than dogs, but dog...</td>\n",
       "      <td>True</td>\n",
       "    </tr>\n",
       "    <tr>\n",
       "      <th>19</th>\n",
       "      <td>The breed of dog with the best sense of smell ...</td>\n",
       "      <td>True</td>\n",
       "    </tr>\n",
       "    <tr>\n",
       "      <th>20</th>\n",
       "      <td>Puppies love games such as hide and seek! Hide...</td>\n",
       "      <td>True</td>\n",
       "    </tr>\n",
       "    <tr>\n",
       "      <th>21</th>\n",
       "      <td>It’s been demonstrated that dogs can reduce bo...</td>\n",
       "      <td>True</td>\n",
       "    </tr>\n",
       "    <tr>\n",
       "      <th>22</th>\n",
       "      <td>Seeing eye dogs pee and poo on command so that...</td>\n",
       "      <td>True</td>\n",
       "    </tr>\n",
       "    <tr>\n",
       "      <th>23</th>\n",
       "      <td>Seventy percent of people sign their pet’s nam...</td>\n",
       "      <td>True</td>\n",
       "    </tr>\n",
       "    <tr>\n",
       "      <th>24</th>\n",
       "      <td>A dog’s shoulder blades are unattached to the ...</td>\n",
       "      <td>True</td>\n",
       "    </tr>\n",
       "    <tr>\n",
       "      <th>25</th>\n",
       "      <td>The normal body temperature of a dog is 100.94...</td>\n",
       "      <td>True</td>\n",
       "    </tr>\n",
       "    <tr>\n",
       "      <th>26</th>\n",
       "      <td>Dogs can use their sense of smell to gauge our...</td>\n",
       "      <td>True</td>\n",
       "    </tr>\n",
       "  </tbody>\n",
       "</table>\n",
       "</div>"
      ],
      "text/plain": [
       "                                                facts  success\n",
       "0   Dogs do dream! Dogs and humans have the same t...     True\n",
       "1   It costs approximately $10,000 to train a fede...     True\n",
       "2   Most dogs have 18 or more muscles to tilt, rot...     True\n",
       "3   Dogs have three eyelids. The third lid, called...     True\n",
       "4   One of Shakespeare’s most mischievous characte...     True\n",
       "5   Dogs do not have an appendix. Why haven’t huma...     True\n",
       "6   Endal was the first dog to ride on the London ...     True\n",
       "7   Bloodhound dogs have a keen sense of smell and...     True\n",
       "8   Female dogs can get pregnant when their bodies...     True\n",
       "9   In Croatia, scientists discovered that lamppos...     True\n",
       "10  A Border Collie named Chaser has learned the n...     True\n",
       "11  One unspayed female dog, her mate and their pu...     True\n",
       "12  The term \"dog days of summer\" was coined by th...     True\n",
       "13  This pup, Nesbit, earned over one million Delt...     True\n",
       "14   More than one in three U.S. families owns a dog.     True\n",
       "15  Therapy dogs, who bring healing to individuals...     True\n",
       "16  In addition to \"formal\" forms of dog training ...     True\n",
       "17   More than one in three U.S. families owns a dog.     True\n",
       "18  Humans generally see better than dogs, but dog...     True\n",
       "19  The breed of dog with the best sense of smell ...     True\n",
       "20  Puppies love games such as hide and seek! Hide...     True\n",
       "21  It’s been demonstrated that dogs can reduce bo...     True\n",
       "22  Seeing eye dogs pee and poo on command so that...     True\n",
       "23  Seventy percent of people sign their pet’s nam...     True\n",
       "24  A dog’s shoulder blades are unattached to the ...     True\n",
       "25  The normal body temperature of a dog is 100.94...     True\n",
       "26  Dogs can use their sense of smell to gauge our...     True"
      ]
     },
     "execution_count": 18,
     "metadata": {},
     "output_type": "execute_result"
    }
   ],
   "source": [
    "df[\"facts\"] = df[\"facts\"].apply(lambda x: ''.join(x))\n",
    "df"
   ]
  },
  {
   "cell_type": "markdown",
   "id": "d3fb564c",
   "metadata": {},
   "source": [
    "# Save the dataframe into the data folder. "
   ]
  },
  {
   "cell_type": "markdown",
   "id": "2b334e3d",
   "metadata": {},
   "source": [
    "Make sure you don't get that unnamed: 0 column. Hint: https://stackoverflow.com/questions/36519086/how-to-get-rid-of-unnamed-0-column-in-a-pandas-dataframe-read-in-from-csv-fil"
   ]
  },
  {
   "cell_type": "code",
   "execution_count": 20,
   "id": "ca21a372",
   "metadata": {},
   "outputs": [],
   "source": [
    "data_folder_path = '../data/'\n",
    "\n",
    "csv_filename = 'fact_dogs.csv'\n",
    "\n",
    "full_path = data_folder_path + csv_filename\n",
    "\n",
    "df.to_csv(full_path, index=False)"
   ]
  }
 ],
 "metadata": {
  "kernelspec": {
   "display_name": "ironhack",
   "language": "python",
   "name": "ironhack"
  },
  "language_info": {
   "codemirror_mode": {
    "name": "ipython",
    "version": 3
   },
   "file_extension": ".py",
   "mimetype": "text/x-python",
   "name": "python",
   "nbconvert_exporter": "python",
   "pygments_lexer": "ipython3",
   "version": "3.11.5"
  },
  "nbTranslate": {
   "displayLangs": [
    "en",
    "es"
   ],
   "hotkey": "alt-a",
   "langInMainMenu": true,
   "sourceLang": "es",
   "targetLang": "en",
   "useGoogleTranslate": true
  },
  "toc": {
   "base_numbering": 1,
   "nav_menu": {},
   "number_sections": true,
   "sideBar": true,
   "skip_h1_title": false,
   "title_cell": "Table of Contents",
   "title_sidebar": "Contents",
   "toc_cell": false,
   "toc_position": {},
   "toc_section_display": true,
   "toc_window_display": false
  }
 },
 "nbformat": 4,
 "nbformat_minor": 5
}
